{
 "nbformat": 4,
 "nbformat_minor": 2,
 "metadata": {
  "language_info": {
   "name": "python",
   "codemirror_mode": {
    "name": "ipython",
    "version": 3
   },
   "version": "3.7.6-final"
  },
  "orig_nbformat": 2,
  "file_extension": ".py",
  "mimetype": "text/x-python",
  "name": "python",
  "npconvert_exporter": "python",
  "pygments_lexer": "ipython3",
  "version": 3,
  "kernelspec": {
   "name": "python37664bitsagemakervenvda8860eea5ff4295bad6385a8c21bf3a",
   "display_name": "Python 3.7.6 64-bit ('sagemaker': venv)"
  }
 },
 "cells": [
  {
   "cell_type": "markdown",
   "metadata": {},
   "source": [
    "# Spam classification pipeline at Amazon SageMaker"
   ],
   "execution_count": null,
   "outputs": []
  },
  {
   "cell_type": "markdown",
   "metadata": {},
   "source": [
    "Pipeline consists of: dataset preprocessing, model training and model serving."
   ],
   "execution_count": null,
   "outputs": []
  },
  {
   "cell_type": "code",
   "execution_count": null,
   "metadata": {},
   "outputs": [],
   "source": [
    "import sagemaker\n",
    "import datetime\n",
    "import numpy as np\n",
    "from sagemaker import get_execution_role\n",
    "from sagemaker.sklearn.processing import SKLearnProcessor\n",
    "from sagemaker.processing import ProcessingInput, ProcessingOutput\n",
    "from sagemaker.tensorflow import TensorFlow"
   ]
  },
  {
   "cell_type": "markdown",
   "metadata": {},
   "source": [
    "Download the dataset:"
   ],
   "execution_count": null,
   "outputs": []
  },
  {
   "cell_type": "code",
   "execution_count": null,
   "metadata": {},
   "outputs": [],
   "source": [
    "!wget https://archive.ics.uci.edu/ml/machine-learning-databases/00228/smsspamcollection.zip\n",
    "!unzip smsspamcollection.zip -d data && rm data/readme smsspamcollection.zip"
   ]
  },
  {
   "cell_type": "code",
   "execution_count": null,
   "metadata": {},
   "outputs": [],
   "source": [
    "session = sagemaker.Session()\n",
    "bucket_name = session.default_bucket()\n",
    "\n",
    "time = datetime.datetime.now().strftime(\"%Y-%m-%d-%H-%M-%S\")\n",
    "processing_job_name = f\"spam-classification-{time}\""
   ]
  },
  {
   "cell_type": "markdown",
   "metadata": {},
   "source": [
    "## Data processing"
   ],
   "execution_count": null,
   "outputs": []
  },
  {
   "cell_type": "markdown",
   "metadata": {},
   "source": [
    "Preprocess dataset using SKLearnProcessor and save vocabulary, train and test data to S3."
   ],
   "execution_count": null,
   "outputs": []
  },
  {
   "cell_type": "code",
   "execution_count": null,
   "metadata": {},
   "outputs": [],
   "source": [
    "output_path = f\"s3://{bucket_name}/{processing_job_name}/output\"\n",
    "\n",
    "sklearn_processor = SKLearnProcessor(\n",
    "    framework_version=\"0.20.0\",\n",
    "    role=get_execution_role(),\n",
    "    instance_type=\"ml.t3.medium\",\n",
    "    instance_count=1,\n",
    ")\n",
    "\n",
    "sklearn_processor.run(\n",
    "    code=\"processing/data_processing.py\",\n",
    "    job_name=processing_job_name,\n",
    "    inputs=[ProcessingInput(source=\"./data\", destination=\"/opt/ml/processing/input\")],\n",
    "    outputs=[\n",
    "        ProcessingOutput(\n",
    "            output_name=\"output\",\n",
    "            source=\"/opt/ml/processing/output\",\n",
    "            destination=output_path,\n",
    "        )\n",
    "    ],\n",
    "    arguments=[\n",
    "        \"--data_path\",\n",
    "        \"/opt/ml/processing/input\",\n",
    "        \"--output_path\",\n",
    "        \"/opt/ml/processing/output\",\n",
    "    ],\n",
    ")\n",
    "\n",
    "preprocessing_job_description = sklearn_processor.jobs[-1].describe()"
   ]
  },
  {
   "cell_type": "markdown",
   "metadata": {},
   "source": [
    "## Model training"
   ],
   "execution_count": null,
   "outputs": []
  },
  {
   "cell_type": "markdown",
   "metadata": {},
   "source": [
    "Train model:"
   ],
   "execution_count": null,
   "outputs": []
  },
  {
   "cell_type": "code",
   "execution_count": null,
   "metadata": {},
   "outputs": [],
   "source": [
    "hyperparameters = {\"epochs\": 5, \"batch_size\": 32, \"learning_rate\": 0.01}\n",
    "train_path = f\"{output_path}/train\"\n",
    "test_path = f\"{output_path}/test\"\n",
    "\n",
    "estimator = TensorFlow(\n",
    "    source_dir=\"training\",\n",
    "    entry_point=\"train.py\",\n",
    "    model_dir=\"/opt/ml/model\",\n",
    "    train_instance_type=\"ml.m5.large\",\n",
    "    train_instance_count=1,\n",
    "    hyperparameters=hyperparameters,\n",
    "    role=get_execution_role(),\n",
    "    base_job_name=\"spam-classification\",\n",
    "    framework_version=\"2.1\",\n",
    "    py_version=\"py3\",\n",
    "    script_mode=True,\n",
    ")\n",
    "\n",
    "inputs = {\n",
    "    \"train\": train_path,\n",
    "    \"test\": test_path,\n",
    "}\n",
    "\n",
    "estimator.fit(inputs)"
   ]
  },
  {
   "cell_type": "markdown",
   "metadata": {},
   "source": [
    "## Model deployment"
   ],
   "execution_count": null,
   "outputs": []
  },
  {
   "cell_type": "markdown",
   "metadata": {},
   "source": [
    "Deploy trained model:"
   ],
   "execution_count": null,
   "outputs": []
  },
  {
   "cell_type": "code",
   "execution_count": null,
   "metadata": {},
   "outputs": [],
   "source": [
    "predictor = estimator.deploy(initial_instance_count=1, instance_type=\"ml.t2.medium\")"
   ]
  },
  {
   "cell_type": "markdown",
   "metadata": {},
   "source": [
    "Test model:"
   ],
   "execution_count": null,
   "outputs": []
  },
  {
   "cell_type": "code",
   "execution_count": null,
   "metadata": {},
   "outputs": [],
   "source": [
    "def get_results(score):\n",
    "    return 1 if score > 0.5 else 0\n",
    "\n",
    "\n",
    "prefix = f\"{processing_job_name}/output/test/X_test.npy\"\n",
    "session.download_data(\"data/test\", bucket=bucket_name, key_prefix=prefix)\n",
    "\n",
    "test_samples = np.load(\"data/test/X_test.npy\")\n",
    "result = predictor.predict(test_samples[0])[\"predictions\"][0][0]\n",
    "print(f\"\\n\\nPrediction result: {get_results(result)}\")"
   ]
  },
  {
   "cell_type": "markdown",
   "metadata": {},
   "source": [
    "Delete endpoint (stop serving container):"
   ],
   "execution_count": null,
   "outputs": []
  },
  {
   "cell_type": "code",
   "execution_count": null,
   "metadata": {},
   "outputs": [],
   "source": [
    "predictor.delete_endpoint()"
   ]
  }
 ]
}